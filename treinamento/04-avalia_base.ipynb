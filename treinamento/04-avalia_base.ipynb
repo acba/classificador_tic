{
 "cells": [
  {
   "cell_type": "code",
   "execution_count": 23,
   "id": "f9740249-01af-48da-bd10-4566a6f741c4",
   "metadata": {},
   "outputs": [
    {
     "data": {
      "text/html": [
       "<div>\n",
       "<style scoped>\n",
       "    .dataframe tbody tr th:only-of-type {\n",
       "        vertical-align: middle;\n",
       "    }\n",
       "\n",
       "    .dataframe tbody tr th {\n",
       "        vertical-align: top;\n",
       "    }\n",
       "\n",
       "    .dataframe thead th {\n",
       "        text-align: right;\n",
       "    }\n",
       "</style>\n",
       "<table border=\"1\" class=\"dataframe\">\n",
       "  <thead>\n",
       "    <tr style=\"text-align: right;\">\n",
       "      <th></th>\n",
       "      <th>fonte</th>\n",
       "      <th>descricao</th>\n",
       "      <th>classe</th>\n",
       "      <th>Tipo</th>\n",
       "    </tr>\n",
       "  </thead>\n",
       "  <tbody>\n",
       "  </tbody>\n",
       "</table>\n",
       "</div>"
      ],
      "text/plain": [
       "Empty DataFrame\n",
       "Columns: [fonte, descricao, classe, Tipo]\n",
       "Index: []"
      ]
     },
     "execution_count": 23,
     "metadata": {},
     "output_type": "execute_result"
    }
   ],
   "source": [
    "import pandas as pd\n",
    "\n",
    "# Nunca truncar colunas de texto\n",
    "pd.set_option('display.max_colwidth', None)\n",
    "\n",
    "# Mostrar todas as colunas e linhas, se quiser\n",
    "pd.set_option('display.max_columns', None)\n",
    "pd.set_option('display.max_rows', None)\n",
    "\n",
    "df = pd.read_excel('base_dados_original.xlsx')\n",
    "\n",
    "# conta quantas classes diferentes cada descrição tem\n",
    "contagem = df.groupby('descricao')['classe'].nunique()\n",
    "\n",
    "# seleciona aquelas com mais de 1 classe\n",
    "descricoes_inconsistentes = contagem[contagem > 1].index.tolist()\n",
    "\n",
    "# filtra o df original para ver os registros problemáticos\n",
    "df_conflitos = df[df['descricao'].isin(descricoes_inconsistentes)]\n",
    "df_conflitos.sort_values(by='descricao')"
   ]
  },
  {
   "cell_type": "code",
   "execution_count": 25,
   "id": "ffc5bab8-3cb7-48f1-8002-2ced43da5bfc",
   "metadata": {},
   "outputs": [
    {
     "name": "stdout",
     "output_type": "stream",
     "text": [
      "Collecting rapidfuzz\n",
      "  Downloading rapidfuzz-3.13.0-cp312-cp312-manylinux_2_17_x86_64.manylinux2014_x86_64.whl.metadata (12 kB)\n",
      "Downloading rapidfuzz-3.13.0-cp312-cp312-manylinux_2_17_x86_64.manylinux2014_x86_64.whl (3.1 MB)\n",
      "\u001b[2K   \u001b[38;2;114;156;31m━━━━━━━━━━━━━━━━━━━━━━━━━━━━━━━━━━━━━━━━\u001b[0m \u001b[32m3.1/3.1 MB\u001b[0m \u001b[31m5.5 MB/s\u001b[0m eta \u001b[36m0:00:00\u001b[0mm eta \u001b[36m0:00:01\u001b[0m[36m0:00:01\u001b[0m\n",
      "\u001b[?25hInstalling collected packages: rapidfuzz\n",
      "Successfully installed rapidfuzz-3.13.0\n"
     ]
    }
   ],
   "source": [
    "!pip install rapidfuzz"
   ]
  },
  {
   "cell_type": "code",
   "execution_count": 30,
   "id": "b9f42584-6799-4fa8-9a0b-439798d084e9",
   "metadata": {},
   "outputs": [
    {
     "name": "stdout",
     "output_type": "stream",
     "text": [
      "“Contratacao de empresa especializada na prestacao de forma continua de servicos de limpeza conservacao higienizacao auxiliar de escritorio copeiragem vigia operador de cftv recepcionista auxiliar de almoxarifado servente lider auxiliar de servicos gerais e mensageiro objetivando a execucao no ambito da camara municipal de sao goncalo ” ↔ “Contratacao de empresa especializada na prestacao de forma continua de servicos de limpeza conservacao higienizacao auxiliar de escritorio copeiragem vigia operador de cftv recepcionista auxiliar de almoxarifado servente lider auxiliar de servicos gerais e mensageiro objetivando a execucao no ambito da camara municipal de sao goncalo conforme condicoes quantidades e exigencias estabelecidas neste ” [91.28065395095368% similar] → classes {'Não'} vs {'Sim'}\n",
      "“Contratacao de empresa especializada na prestacao de servico de outsourcing de impressao com fornecimento de software de gerenciamento e bilhetagem acessorios suprimentos insumos consumiveis originais toner e outros exceto papel impressoras e assistencia tecnica manutencao nos locais de instalacao com fornecimento de pecas e componentes bem como quaisquer outros elementos necessarios a prestacao d” ↔ “Contratacao de servico de natureza continuada de outsourcing de impressao com fornecimento de software de gerenciamento e bilhetagem acessorios suprimentos insumos consumiveis originais toner e outros exceto papel impressoras e assistencia tecnica manutencao nos locais de instalacao com fornecimento de pecas e componentes bem como quaisquer outros elementos necessarios a prestacao dos servicos de ” [92.11514392991239% similar] → classes {'Não'} vs {'Sim'}\n",
      "“Contratacao de empresa especializada na prestacao de servicos continuados de gerenciamento e controle da manutencao preventiva corretiva e preditiva da frota de veiculos incluindo toda tecnologia embarcada e mao de obra a serem empregadas na prestacao de servicos cumulada com lavagem poilimento de pintura assistencia de socorro mecanico assistencia em caso de pane eletrica lanternagem em geral ade” ↔ “Registro de preco para futura e eventural contratacao de empresa especializada na prestacao de servicos continuados de gerenciamento e controle da manutencao preventiva corretiva e preditiva da frota de veiculos incluindo toda tecnologia embarcada e mao de obra a serem empregadas na prestacao de servicos cumulada com lavagem poilimento de pintura assistencia de socorro mecanico assistencia em caso” [90.25% similar] → classes {'Não'} vs {'Sim'}\n",
      "“Contratacao de empresa especializada para prestacao de servicos de administracao e gerenciamento informatizado do abastecimento dos veiculos oficiais com tecnologia de cartao eletronico em rede de postos credenciados por meio de software integrado para a captura eletronica de dados visando atender as necessidades da prefeitura municipal de rio bonito ” ↔ “Contratacao de empresa especializada para prestacao de servicos de administracao e gerenciamento informatizado do abastecimento dos veiculos oficiais maquinas e equipamentos proprios e ou locados com tecnologia de cartao eletronico em rede de postos credenciados por meio de software integrado para a captura eletronica de dados visando atender as necessidades da prefeitura municipal de rio bonito r” [93.61702127659575% similar] → classes {'Sim'} vs {'Não'}\n",
      "“Contratacao de empresa para servico de consultoria e assessoria na gestao monitoramento e auditoria da apuracao do valor adicionado municipal va com cessao de direito de uso de software 100 acessivel via web ” ↔ “Contratacao de pessoa juridica para prestacao de servico de consultoria e assessoria na gestao monitoramento e auditoria da apuracao do valor adicionado municipal va com cessao de direito de uso de software 100 acessivel via web ” [91.49425287356323% similar] → classes {'Não'} vs {'Sim'}\n",
      "“Contratacao de servicos medicos em exames de radiodiagnostico” ↔ “Contratacao de servicos medicos em radiodiagnostico” [91.07142857142857% similar] → classes {'Não'} vs {'Sim'}\n",
      "“Formacao de registro de preco para futura e eventual aquisicao de toners fotoreceptores cartuchos e tintas de impressoras ” ↔ “Formacao de registro de preco para futura e eventual aquisicao de toners fotoreceptores cartuchos e tintas original para impressoras ” [93.28063241106719% similar] → classes {'Não'} vs {'Sim'}\n",
      "“O objeto deste pregao eletronico a contratacao de empresa especializada no fornecimento ininterrupto de gases medicinais de oxigenio liquido em tanque de criogenico com respectiva central de cilindros reserva backups com instalacao e montagem do sistema fornecimento de oxigenio medicinal gasoso ar medicinal em cilindros fornecimento de gases medicinais especiais em cilindros dioxido de carbono co2” ↔ “O presente contrato tem por objeto a contratacao de empresa especializada no fornecimento ininterrupto de gases medicinais de oxigenio liquido em tanque de criogenico com respectiva central de cilindros reserva backups com instalacao e montagem do sistema fornecimento de oxigenio medicinal gasoso ar medicinal em cilindros fornecimento de gases medicinais especiais em cilindros dioxido de carbono c” [94.0% similar] → classes {'Sim'} vs {'Não'}\n",
      "“Aquisição de itens novos a fim de implementar a Estação Empreender com o intuito de atender a demanda da Secretaria de Estado de Educação – SEEDUC/RJ.” ↔ “Aquisição de Kits Arduíno a fim de implementar a Estação Empreender com o intuito de atender a demanda da Secretaria de Estado de Educação – SEEDUC/RJ.” [91.69435215946844% similar] → classes {'Não'} vs {'Sim'}\n",
      "“Aquisição de itens novos a fim de implementar a Estação Empreender com o intuito de atender a demanda da Secretaria de Estado de Educação – SEEDUC/RJ.” ↔ “Aquisição de Câmeras Digitais e Tripés novos a fim de implementar a Estação Empreender com o intuito de atender a demanda da Secretaria de Estado de Educação – SEEDUC/RJ.” [90.0% similar] → classes {'Não'} vs {'Sim'}\n"
     ]
    }
   ],
   "source": [
    "from rapidfuzz import process, fuzz\n",
    "\n",
    "df = pd.read_excel('base_dados_original.xlsx')\n",
    "\n",
    "# pega as descrições únicas\n",
    "descricoes_unicas = df['descricao'].unique()\n",
    "\n",
    "# define um limiar de similaridade (por exemplo, 90 de 100)\n",
    "THRESHOLD = 90\n",
    "\n",
    "pares_problematicos = []\n",
    "\n",
    "# para cada descrição, busca as 5 mais similares dentro do seu próprio conjunto\n",
    "for desc in descricoes_unicas:\n",
    "    matches = process.extract(\n",
    "        desc,\n",
    "        descricoes_unicas,\n",
    "        scorer=fuzz.token_sort_ratio,\n",
    "        limit=5\n",
    "    )\n",
    "    for match_desc, score, _ in matches:\n",
    "        if desc != match_desc and score >= THRESHOLD:\n",
    "            # verifica se, nessas duas descrições, existe divergência de classes\n",
    "            classes_desc  = set(df.loc[df['descricao'] == desc,  'classe'])\n",
    "            classes_match = set(df.loc[df['descricao'] == match_desc, 'classe'])\n",
    "            if classes_desc != classes_match:\n",
    "                pares_problematicos.append(\n",
    "                    (desc, match_desc, score, classes_desc, classes_match)\n",
    "                )\n",
    "\n",
    "# dicionário para unificação de pares (chave: tupla ordenada de descrições)\n",
    "unicos = {}\n",
    "\n",
    "for desc1, desc2, score, cls1, cls2 in pares_problematicos:\n",
    "    key = tuple(sorted([desc1, desc2]))\n",
    "    if key not in unicos:\n",
    "        unicos[key] = (desc1, desc2, score, cls1, cls2)\n",
    "\n",
    "# agora imprime\n",
    "for desc1, desc2, score, cls1, cls2 in unicos.values():\n",
    "    print(f\"“{desc1}” ↔ “{desc2}” [{score}% similar] → classes {cls1} vs {cls2}\")\n"
   ]
  }
 ],
 "metadata": {
  "kernelspec": {
   "display_name": "Python 3 (ipykernel)",
   "language": "python",
   "name": "python3"
  },
  "language_info": {
   "codemirror_mode": {
    "name": "ipython",
    "version": 3
   },
   "file_extension": ".py",
   "mimetype": "text/x-python",
   "name": "python",
   "nbconvert_exporter": "python",
   "pygments_lexer": "ipython3",
   "version": "3.12.3"
  }
 },
 "nbformat": 4,
 "nbformat_minor": 5
}
